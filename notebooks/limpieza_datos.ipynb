{
  "cells": [
    {
      "cell_type": "code",
      "execution_count": 1,
      "metadata": {
        "id": "AyzOOngmDVXC"
      },
      "outputs": [],
      "source": [
        "# Importar librerías y funciones\n",
        "import pandas as pd"
      ]
    },
    {
      "cell_type": "code",
      "execution_count": 2,
      "metadata": {
        "id": "bjyTJUmwDbFP"
      },
      "outputs": [],
      "source": [
        "# Cargar base de datos\n",
        "encuesta = pd.read_csv('../datos/original/IT Salary Survey EU  2020.csv')"
      ]
    },
    {
      "cell_type": "code",
      "execution_count": 3,
      "metadata": {
        "colab": {
          "base_uri": "https://localhost:8080/"
        },
        "id": "5beFAlalFQq6",
        "outputId": "935ca48c-e5b4-4fe5-d57c-287e5640c94d"
      },
      "outputs": [
        {
          "name": "stdout",
          "output_type": "stream",
          "text": [
            "Columnas de la base de datos:\n",
            "Timestamp\n",
            "Age\n",
            "Gender\n",
            "City\n",
            "Position \n",
            "Total years of experience\n",
            "Years of experience in Germany\n",
            "Seniority level\n",
            "Your main technology / programming language\n",
            "Other technologies/programming languages you use often\n",
            "Yearly brutto salary (without bonus and stocks) in EUR\n",
            "Yearly bonus + stocks in EUR\n",
            "Annual brutto salary (without bonus and stocks) one year ago. Only answer if staying in the same country\n",
            "Annual bonus+stocks one year ago. Only answer if staying in same country\n",
            "Number of vacation days\n",
            "Employment status\n",
            "Сontract duration\n",
            "Main language at work\n",
            "Company size\n",
            "Company type\n",
            "Have you lost your job due to the coronavirus outbreak?\n",
            "Have you been forced to have a shorter working week (Kurzarbeit)? If yes, how many hours per week\n",
            "Have you received additional monetary support from your employer due to Work From Home? If yes, how much in 2020 in EUR\n"
          ]
        }
      ],
      "source": [
        "# Visualizar columnas\n",
        "print(\"Columnas de la base de datos:\")\n",
        "for columna in encuesta.columns:\n",
        "    print(columna)"
      ]
    },
    {
      "cell_type": "code",
      "execution_count": 4,
      "metadata": {
        "colab": {
          "base_uri": "https://localhost:8080/"
        },
        "id": "cb_5Mp86GjHe",
        "outputId": "ad420258-8a0a-4f32-fa07-82f72724fe53"
      },
      "outputs": [
        {
          "name": "stdout",
          "output_type": "stream",
          "text": [
            "fecha\n",
            "edad\n",
            "genero\n",
            "ciudad\n",
            "posicion\n",
            "experiencia\n",
            "experiencia_alemania\n",
            "nivel\n",
            "tecnologia\n",
            "segundo_lenguaje\n",
            "salario\n",
            "bonos\n",
            "salario_anterior\n",
            "bonos_anterior\n",
            "vacaciones\n",
            "estado\n",
            "contrato\n",
            "idioma\n",
            "tamaño_empresa\n",
            "tipo_empresa\n",
            "desempleo_covid\n",
            "horas_covid\n",
            "apoyo_covid\n"
          ]
        }
      ],
      "source": [
        "# Renonbrar columnas\n",
        "nuevos_nombres = [\n",
        "    'fecha',\n",
        "    'edad',\n",
        "    'genero',\n",
        "    'ciudad',\n",
        "    'posicion',\n",
        "    'experiencia',\n",
        "    'experiencia_alemania',\n",
        "    'nivel',\n",
        "    'tecnologia',\n",
        "    'segundo_lenguaje',\n",
        "    'salario',\n",
        "    'bonos',\n",
        "    'salario_anterior',\n",
        "    'bonos_anterior',\n",
        "    'vacaciones',\n",
        "    'estado',\n",
        "    'contrato',\n",
        "    'idioma',\n",
        "    'tamaño_empresa',\n",
        "    'tipo_empresa',\n",
        "    'desempleo_covid',\n",
        "    'horas_covid',\n",
        "    'apoyo_covid'\n",
        "]\n",
        "\n",
        "encuesta.columns = nuevos_nombres\n",
        "\n",
        "# Visualizar columnas\n",
        "for columna in encuesta.columns:\n",
        "    print(columna)"
      ]
    },
    {
      "cell_type": "code",
      "execution_count": 5,
      "metadata": {
        "colab": {
          "base_uri": "https://localhost:8080/"
        },
        "id": "w0pF-QC_IFGT",
        "outputId": "86ed880a-7a27-4ede-ccfc-dc863bb64c75"
      },
      "outputs": [
        {
          "name": "stdout",
          "output_type": "stream",
          "text": [
            "Columnas de la base de datos:\n",
            "edad\n",
            "genero\n",
            "ciudad\n",
            "posicion\n",
            "experiencia\n",
            "nivel\n",
            "tecnologia\n",
            "salario\n",
            "estado\n",
            "contrato\n",
            "idioma\n",
            "tamaño_empresa\n"
          ]
        }
      ],
      "source": [
        "# Eliminar columnas que no serán analizadas\n",
        "columnas_a_eliminar = [\n",
        "    'fecha',\n",
        "    'experiencia_alemania',\n",
        "    'salario_anterior',\n",
        "    'bonos_anterior',\n",
        "    'desempleo_covid',\n",
        "    'horas_covid',\n",
        "    'apoyo_covid',\n",
        "    'segundo_lenguaje',\n",
        "    'bonos',\n",
        "    'vacaciones',\n",
        "    'tipo_empresa'\n",
        "]\n",
        "encuesta.drop(columnas_a_eliminar, axis=1, inplace=True)\n",
        "\n",
        "# Visualizar columnas\n",
        "print(\"Columnas de la base de datos:\")\n",
        "for columna in encuesta.columns:\n",
        "    print(columna)"
      ]
    },
    {
      "cell_type": "code",
      "execution_count": 6,
      "metadata": {
        "colab": {
          "base_uri": "https://localhost:8080/"
        },
        "id": "hrxAMLC_DZpR",
        "outputId": "f3974f71-c784-44a4-ab1b-7dce27a73621"
      },
      "outputs": [
        {
          "name": "stdout",
          "output_type": "stream",
          "text": [
            "<class 'pandas.core.frame.DataFrame'>\n",
            "RangeIndex: 1253 entries, 0 to 1252\n",
            "Data columns (total 12 columns):\n",
            " #   Column          Non-Null Count  Dtype  \n",
            "---  ------          --------------  -----  \n",
            " 0   edad            1226 non-null   float64\n",
            " 1   genero          1243 non-null   object \n",
            " 2   ciudad          1253 non-null   object \n",
            " 3   posicion        1247 non-null   object \n",
            " 4   experiencia     1237 non-null   object \n",
            " 5   nivel           1241 non-null   object \n",
            " 6   tecnologia      1126 non-null   object \n",
            " 7   salario         1253 non-null   float64\n",
            " 8   estado          1236 non-null   object \n",
            " 9   contrato        1224 non-null   object \n",
            " 10  idioma          1237 non-null   object \n",
            " 11  tamaño_empresa  1235 non-null   object \n",
            "dtypes: float64(2), object(10)\n",
            "memory usage: 117.6+ KB\n"
          ]
        }
      ],
      "source": [
        "# Información inicial\n",
        "encuesta.info()"
      ]
    },
    {
      "cell_type": "code",
      "execution_count": 7,
      "metadata": {
        "colab": {
          "base_uri": "https://localhost:8080/"
        },
        "id": "mguqNwQGSIpZ",
        "outputId": "059a850c-b0ce-44fe-c908-4bdd1403e992"
      },
      "outputs": [
        {
          "name": "stdout",
          "output_type": "stream",
          "text": [
            "Valores nulos por columna:\n",
            "edad               27\n",
            "genero             10\n",
            "ciudad              0\n",
            "posicion            6\n",
            "experiencia        16\n",
            "nivel              12\n",
            "tecnologia        127\n",
            "salario             0\n",
            "estado             17\n",
            "contrato           29\n",
            "idioma             16\n",
            "tamaño_empresa     18\n",
            "dtype: int64\n"
          ]
        }
      ],
      "source": [
        "# Contar valores nulos por columna\n",
        "valores_nulos_por_columna = encuesta.isna().sum()\n",
        "\n",
        "# Mostrar resultados\n",
        "print(\"Valores nulos por columna:\")\n",
        "print(valores_nulos_por_columna)"
      ]
    },
    {
      "cell_type": "code",
      "execution_count": 8,
      "metadata": {
        "colab": {
          "base_uri": "https://localhost:8080/"
        },
        "id": "tsNYOglgQhD7",
        "outputId": "30e16139-3ed2-4ea0-a1d2-90f3c15d6310"
      },
      "outputs": [
        {
          "name": "stdout",
          "output_type": "stream",
          "text": [
            "Valores nulos por columna:\n",
            "edad              0\n",
            "genero            0\n",
            "ciudad            0\n",
            "posicion          0\n",
            "experiencia       0\n",
            "nivel             0\n",
            "tecnologia        0\n",
            "salario           0\n",
            "estado            0\n",
            "contrato          0\n",
            "idioma            0\n",
            "tamaño_empresa    0\n",
            "dtype: int64\n"
          ]
        }
      ],
      "source": [
        "# Limpiar valores nulos\n",
        "encuesta = encuesta.dropna()\n",
        "\n",
        "# Contar valores nulos por columna\n",
        "valores_nulos_por_columna = encuesta.isna().sum()\n",
        "\n",
        "# Mostrar resultados\n",
        "print(\"Valores nulos por columna:\")\n",
        "print(valores_nulos_por_columna)"
      ]
    },
    {
      "cell_type": "code",
      "execution_count": 9,
      "metadata": {
        "id": "kNAWfxXzMGRX"
      },
      "outputs": [],
      "source": [
        "# Declarar función borrar valores atípicos\n",
        "def borrar_valores_atipicos(base_de_datos, columna):\n",
        "    Q1 = base_de_datos[columna].quantile(0.25)\n",
        "    Q3 = base_de_datos[columna].quantile(0.75)\n",
        "    rango = Q3 - Q1\n",
        "\n",
        "    limite_inferior = Q1 - 1.5 * rango\n",
        "    limite_superior = Q3 + 1.5 * rango\n",
        "\n",
        "    valores_sin_atipicos = (base_de_datos[columna] >= limite_inferior) & (base_de_datos[columna] <= limite_superior)\n",
        "    base_de_datos_filtrada = base_de_datos[valores_sin_atipicos]\n",
        "    \n",
        "    return base_de_datos_filtrada"
      ]
    },
    {
      "cell_type": "code",
      "execution_count": 10,
      "metadata": {
        "colab": {
          "base_uri": "https://localhost:8080/"
        },
        "id": "hcTEGmU5OiQl",
        "outputId": "ff25c42a-7fa3-4f02-c7f1-29438391e9a8"
      },
      "outputs": [
        {
          "name": "stdout",
          "output_type": "stream",
          "text": [
            "Descripción estadística de la columna edad:\n",
            "count    1070.000000\n",
            "mean       32.358879\n",
            "std         5.555923\n",
            "min        20.000000\n",
            "25%        29.000000\n",
            "50%        32.000000\n",
            "75%        35.000000\n",
            "max        66.000000\n",
            "Name: edad, dtype: float64\n",
            "\n",
            "Orden de los valores de la columna edad de menor a mayor:\n",
            "804     20.0\n",
            "1052    22.0\n",
            "350     22.0\n",
            "1099    22.0\n",
            "982     22.0\n",
            "        ... \n",
            "1159    56.0\n",
            "232     56.0\n",
            "23      59.0\n",
            "296     65.0\n",
            "59      66.0\n",
            "Name: edad, Length: 1070, dtype: float64\n"
          ]
        }
      ],
      "source": [
        "# Calcular estadísticos descriptivos\n",
        "descripcion = encuesta['edad'].describe()\n",
        "valores_ordenados = encuesta['edad'].sort_values()\n",
        "\n",
        "# Mostrar resultados\n",
        "print(\"Descripción estadística de la columna edad:\")\n",
        "print(descripcion)\n",
        "\n",
        "print(\"\\nOrden de los valores de la columna edad de menor a mayor:\")\n",
        "print(valores_ordenados)"
      ]
    },
    {
      "cell_type": "code",
      "execution_count": 11,
      "metadata": {
        "colab": {
          "base_uri": "https://localhost:8080/"
        },
        "id": "TtOSpMtyOSj_",
        "outputId": "cf053b32-3348-4c60-8aa2-46b3befee495"
      },
      "outputs": [
        {
          "name": "stdout",
          "output_type": "stream",
          "text": [
            "Descripción estadística de la columna edad:\n",
            "count    1039.000000\n",
            "mean       31.847931\n",
            "std         4.669003\n",
            "min        20.000000\n",
            "25%        28.000000\n",
            "50%        32.000000\n",
            "75%        35.000000\n",
            "max        44.000000\n",
            "Name: edad, dtype: float64\n",
            "\n",
            "Orden de los valores de la columna edad de menor a mayor:\n",
            "804     20\n",
            "1052    22\n",
            "350     22\n",
            "1099    22\n",
            "982     22\n",
            "        ..\n",
            "836     44\n",
            "1145    44\n",
            "315     44\n",
            "1221    44\n",
            "720     44\n",
            "Name: edad, Length: 1039, dtype: int32\n"
          ]
        }
      ],
      "source": [
        "# Borrar datos atípicos columna edad\n",
        "encuesta = borrar_valores_atipicos(encuesta, 'edad')\n",
        "\n",
        "# Cambiar tipo de de dato\n",
        "encuesta['edad'] = encuesta['edad'].astype('int')\n",
        "\n",
        "# Calcular estadísticos descriptivos\n",
        "descripcion = encuesta['edad'].describe()\n",
        "valores_ordenados = encuesta['edad'].sort_values()\n",
        "\n",
        "# Mostrar resultados\n",
        "print(\"Descripción estadística de la columna edad:\")\n",
        "print(descripcion)\n",
        "\n",
        "print(\"\\nOrden de los valores de la columna edad de menor a mayor:\")\n",
        "print(valores_ordenados)"
      ]
    },
    {
      "cell_type": "code",
      "execution_count": 12,
      "metadata": {
        "colab": {
          "base_uri": "https://localhost:8080/"
        },
        "id": "n0uIgQncT5bO",
        "outputId": "6c3987f9-3384-4ae8-bfff-cc330d5f76e5"
      },
      "outputs": [
        {
          "name": "stdout",
          "output_type": "stream",
          "text": [
            "Cantidad por género:\n",
            "genero\n",
            "Male       886\n",
            "Female     151\n",
            "Diverse      2\n",
            "Name: count, dtype: int64\n"
          ]
        }
      ],
      "source": [
        "# Contar cantidad por género\n",
        "cantidad_por_genero = encuesta['genero'].value_counts()\n",
        "\n",
        "# Mostrar resultados\n",
        "print(\"Cantidad por género:\")\n",
        "print(cantidad_por_genero)"
      ]
    },
    {
      "cell_type": "code",
      "execution_count": 13,
      "metadata": {
        "colab": {
          "base_uri": "https://localhost:8080/"
        },
        "id": "0QFpDElqUPH9",
        "outputId": "3a7c4b05-784f-4f02-d043-30065bb1e8b2"
      },
      "outputs": [
        {
          "name": "stdout",
          "output_type": "stream",
          "text": [
            "Cantidad por ciudad:\n",
            "ciudad\n",
            "Berlin         564\n",
            "Munich         196\n",
            "Hamburg         34\n",
            "Frankfurt       34\n",
            "Stuttgart       20\n",
            "              ... \n",
            "Cupertino        1\n",
            "Wroclaw          1\n",
            "Salzburg         1\n",
            "Milan            1\n",
            "Saarbrücken      1\n",
            "Name: count, Length: 107, dtype: int64\n"
          ]
        }
      ],
      "source": [
        "# Contar cantidad por ciudad\n",
        "cantidad_por_ciudad = encuesta['ciudad'].value_counts()\n",
        "\n",
        "# Mostrar resultados\n",
        "print(\"Cantidad por ciudad:\")\n",
        "print(cantidad_por_ciudad)"
      ]
    },
    {
      "cell_type": "code",
      "execution_count": 14,
      "metadata": {
        "colab": {
          "base_uri": "https://localhost:8080/"
        },
        "id": "ISe643NlSaQB",
        "outputId": "e852091f-e569-45b4-c5ea-0963627d12ea"
      },
      "outputs": [
        {
          "name": "stdout",
          "output_type": "stream",
          "text": [
            "Cantidad por posicion:\n",
            "posicion\n",
            "Software Engineer      346\n",
            "Backend Developer      159\n",
            "Data Scientist          95\n",
            "Frontend Developer      82\n",
            "QA Engineer             53\n",
            "Mobile Developer        51\n",
            "DevOps                  39\n",
            "ML Engineer             37\n",
            "Data Engineer           20\n",
            "Engineering Manager      9\n",
            "Product Manager          7\n",
            "Data Analyst             6\n",
            "Designer (UI/UX)         5\n",
            "Software Architect       4\n",
            "CTO                      4\n",
            "Fullstack Developer      4\n",
            "SRE                      3\n",
            "Team Lead                3\n",
            "Consultant               3\n",
            "Business Analyst         3\n",
            "Name: count, dtype: int64\n"
          ]
        }
      ],
      "source": [
        "# Contar cantidad por posicion\n",
        "cantidad_por_posicion = encuesta['posicion'].value_counts().head(20)\n",
        "\n",
        "# Mostrar resultados\n",
        "print(\"Cantidad por posicion:\")\n",
        "print(cantidad_por_posicion)"
      ]
    },
    {
      "cell_type": "code",
      "execution_count": 15,
      "metadata": {
        "colab": {
          "base_uri": "https://localhost:8080/"
        },
        "id": "Mohf-plFU7U4",
        "outputId": "a385e1c0-a56d-493f-aa8d-1f4dbb375ee9"
      },
      "outputs": [
        {
          "name": "stdout",
          "output_type": "stream",
          "text": [
            "Cantidad por posicion:\n",
            "posicion\n",
            "Software Engineer      346\n",
            "Backend Developer      159\n",
            "Otro                   118\n",
            "Data Scientist          95\n",
            "Frontend Developer      82\n",
            "QA Engineer             53\n",
            "Mobile Developer        51\n",
            "DevOps                  39\n",
            "ML Engineer             37\n",
            "Data Engineer           20\n",
            "Engineering Manager      9\n",
            "Product Manager          7\n",
            "Data Analyst             6\n",
            "Designer (UI/UX)         5\n",
            "Software Architect       4\n",
            "Fullstack Developer      4\n",
            "CTO                      4\n",
            "Name: count, dtype: int64\n"
          ]
        }
      ],
      "source": [
        "# Definir umbral minimo de representación\n",
        "umbral_representacion = 4\n",
        "\n",
        "# Identificar posiciones poco representadas\n",
        "frecuencia_posiciones = encuesta['posicion'].value_counts()\n",
        "posiciones_poco_representadas = frecuencia_posiciones[frecuencia_posiciones < umbral_representacion].index\n",
        "\n",
        "# Reemplazar posiciones poco representadas con 'Otro'\n",
        "encuesta.loc[encuesta['posicion'].isin(posiciones_poco_representadas), 'posicion'] = 'Otro'\n",
        "\n",
        "# Contar cantidad por posicion\n",
        "cantidad_por_posicion = encuesta['posicion'].value_counts().head(20)\n",
        "\n",
        "# Mostrar resultados\n",
        "print(\"Cantidad por posicion:\")\n",
        "print(cantidad_por_posicion)"
      ]
    },
    {
      "cell_type": "code",
      "execution_count": 16,
      "metadata": {
        "colab": {
          "base_uri": "https://localhost:8080/"
        },
        "id": "6UofVwfqV9-1",
        "outputId": "1ee9d8cc-53c3-4525-ce9a-5a2cbd08aad6"
      },
      "outputs": [
        {
          "name": "stdout",
          "output_type": "stream",
          "text": [
            "['5' '7' '12' '4' '17' '6' '8' '15' '2' '14' '11' '18' '13' '10' '3' '9'\n",
            " '19' '20' '5.5' '22' '25' '16' '0.8' '1' '1.5' '21' '2.5' '28' '1,5' '24'\n",
            " '0' '4.5' '1 (as QA Engineer) / 11 in total' '2,5' '15, thereof 8 as CTO'\n",
            " '6 (not as a data scientist, but as a lab scientist)' '3.5'\n",
            " 'less than year']\n"
          ]
        }
      ],
      "source": [
        "# Calcular valores unicos de la columna 'experiencia'\n",
        "valores_unicos_experiencia = encuesta['experiencia'].unique()\n",
        "\n",
        "# Mostrar resultados\n",
        "print(valores_unicos_experiencia)"
      ]
    },
    {
      "cell_type": "code",
      "execution_count": 17,
      "metadata": {
        "colab": {
          "base_uri": "https://localhost:8080/"
        },
        "id": "VT1xcAKKZBom",
        "outputId": "5cee9df1-fe20-4598-aca9-a65436d18eda"
      },
      "outputs": [
        {
          "name": "stdout",
          "output_type": "stream",
          "text": [
            "5, 7, 12, 4, 17, 6, 8, 15, 2, 14, 11, 18, 13, 10, 3, 9, 19, 20, 16, 1, 0, "
          ]
        }
      ],
      "source": [
        "# Reemplazar valores no enteros en la columna 'experiencia'\n",
        "encuesta['experiencia'] = encuesta['experiencia'].str.replace(',','.')\n",
        "reemplazo_experiencia = {\n",
        "    '1 (as QA Engineer) / 11 in total':'11',\n",
        "    '6 (not as a data scientist. but as a lab scientist)':'6',\n",
        "    'less than year':'1',\n",
        "    '15. thereof 8 as CTO':'15',\n",
        "    '5.5': '6',\n",
        "    '0.8': '1',\n",
        "    '1.5': '2',\n",
        "    '2.5': '3',\n",
        "    '4.5': '5',\n",
        "    '3.5': '4'\n",
        "}\n",
        "encuesta['experiencia'] = encuesta['experiencia'].replace(reemplazo_experiencia)\n",
        "\n",
        "# Cambiar tipo de dato a entero\n",
        "encuesta['experiencia'] = encuesta['experiencia'].astype('int')\n",
        "\n",
        "# Borrar datos atípicos en la columna 'experiencia'\n",
        "encuesta = borrar_valores_atipicos(encuesta, 'experiencia')\n",
        "\n",
        "# Calcular valores unicos de experiencia\n",
        "valores_unicos_experiencia = encuesta['experiencia'].unique()\n",
        "\n",
        "# Mostrar resultados\n",
        "for numero in valores_unicos_experiencia:\n",
        "    print(numero, end=\", \")"
      ]
    },
    {
      "cell_type": "code",
      "execution_count": 18,
      "metadata": {
        "colab": {
          "base_uri": "https://localhost:8080/"
        },
        "id": "v8PvlmPZdPKz",
        "outputId": "54b490e0-5700-4345-ef7e-8acdefdea9a3"
      },
      "outputs": [
        {
          "name": "stdout",
          "output_type": "stream",
          "text": [
            "Cantidad por nivel:\n",
            "nivel\n",
            "Senior                       466\n",
            "Middle                       314\n",
            "Lead                         134\n",
            "Junior                        71\n",
            "Head                          29\n",
            "Principal                      2\n",
            "Intern                         1\n",
            "Entry level                    1\n",
            "Working Student                1\n",
            "C-Level                        1\n",
            "Student                        1\n",
            "intern                         1\n",
            "Director                       1\n",
            "C-level executive manager      1\n",
            "No level                       1\n",
            "CTO                            1\n",
            "Work Center Manager            1\n",
            "Manager                        1\n",
            "VP                             1\n",
            "student                        1\n",
            "Name: count, dtype: int64\n"
          ]
        }
      ],
      "source": [
        "# Contar cantidad por nivel\n",
        "cantidad_por_nivel = encuesta['nivel'].value_counts()\n",
        "\n",
        "# Mostrar resultados\n",
        "print(\"Cantidad por nivel:\")\n",
        "print(cantidad_por_nivel)"
      ]
    },
    {
      "cell_type": "code",
      "execution_count": 19,
      "metadata": {
        "colab": {
          "base_uri": "https://localhost:8080/"
        },
        "id": "wTBLsQ_Ykyox",
        "outputId": "523b0ebb-5cc6-4f48-d70a-323001c937e1"
      },
      "outputs": [
        {
          "name": "stdout",
          "output_type": "stream",
          "text": [
            "Cantidad por nivel:\n",
            "nivel\n",
            "Senior    466\n",
            "Middle    314\n",
            "Lead      134\n",
            "Junior     71\n",
            "Head       29\n",
            "Otro       16\n",
            "Name: count, dtype: int64\n"
          ]
        }
      ],
      "source": [
        "# Definir umbral minimo de representación\n",
        "umbral_representacion = 5\n",
        "\n",
        "# Identificar niveles poco representados\n",
        "frecuencia_nivel = encuesta['nivel'].value_counts()\n",
        "niveles_poco_representados = frecuencia_nivel[frecuencia_nivel < umbral_representacion].index\n",
        "\n",
        "# Reemplazar niveles poco representados con 'Otro'\n",
        "encuesta.loc[encuesta['nivel'].isin(niveles_poco_representados), 'nivel'] = 'Otro'\n",
        "\n",
        "# Contar cantidad por nivel\n",
        "cantidad_por_nivel = encuesta['nivel'].value_counts()\n",
        "\n",
        "# Mostrar resultados\n",
        "print(\"Cantidad por nivel:\")\n",
        "print(cantidad_por_nivel)"
      ]
    },
    {
      "cell_type": "code",
      "execution_count": 20,
      "metadata": {
        "colab": {
          "base_uri": "https://localhost:8080/"
        },
        "id": "3qSvsYmzwoKp",
        "outputId": "cd5b39b2-3fc8-4fb8-9eae-90e8be7e67b8"
      },
      "outputs": [
        {
          "name": "stdout",
          "output_type": "stream",
          "text": [
            "Cantidad por tecnología:\n",
            "tecnologia\n",
            "Java                       166\n",
            "Python                     150\n",
            "PHP                         53\n",
            "C++                         34\n",
            "JavaScript                  29\n",
            "Javascript                  27\n",
            "C#                          26\n",
            "Scala                       24\n",
            "Swift                       23\n",
            "Go                          23\n",
            "python                      22\n",
            "Kotlin                      22\n",
            "Python                      18\n",
            "Ruby                        18\n",
            "TypeScript                  14\n",
            ".NET                        13\n",
            "JS                          12\n",
            "SQL                         12\n",
            "iOS                         10\n",
            "C                            9\n",
            "R                            8\n",
            "Android                      8\n",
            "java                         8\n",
            "php                          7\n",
            "Typescript                   7\n",
            "javascript                   7\n",
            "JavaScript                   6\n",
            ".net                         6\n",
            "Kubernetes                   5\n",
            "ABAP                         5\n",
            "Javascript / Typescript      5\n",
            "AWS                          4\n",
            "Php                          4\n",
            "Elixir                       4\n",
            "QA                           4\n",
            "Cloud                        3\n",
            "Golang                       3\n",
            "Ruby on Rails                3\n",
            "Node.js                      3\n",
            "React                        3\n",
            "Embedded                     3\n",
            "go                           2\n",
            "Bash                         2\n",
            "C, C++                       2\n",
            "Angular                      2\n",
            "Frontend                     2\n",
            ".Net                         2\n",
            "Java/Kotlin                  2\n",
            "Sql                          2\n",
            "JavaScript/Typescript        2\n",
            "Python, SQL                  2\n",
            "JavaScript / TypeScript      2\n",
            "Figma                        2\n",
            "Spark                        2\n",
            "js                           2\n",
            "kotlin                       2\n",
            "NodeJS                       2\n",
            "SAP                          2\n",
            "C#, .net core                2\n",
            "PHP                          2\n",
            "Name: count, dtype: int64\n"
          ]
        }
      ],
      "source": [
        "# Contar cantidad por tecnología\n",
        "cantidad_por_tecnologia = encuesta['tecnologia'].value_counts()[:60]\n",
        "\n",
        "# Mostrar resultados\n",
        "print(\"Cantidad por tecnología:\")\n",
        "print(cantidad_por_tecnologia)"
      ]
    },
    {
      "cell_type": "code",
      "execution_count": 21,
      "metadata": {
        "colab": {
          "base_uri": "https://localhost:8080/"
        },
        "id": "45ZtcndExB5o",
        "outputId": "3cae74f7-e6cc-47a7-b120-7dee5ca40b3c"
      },
      "outputs": [
        {
          "name": "stdout",
          "output_type": "stream",
          "text": [
            "Cantidad por tecnología:\n",
            "tecnologia\n",
            "Python        203\n",
            "Java          190\n",
            "JavaScript     97\n",
            "Otro           85\n",
            "PHP            68\n",
            "C++            40\n",
            "Swift          36\n",
            "Kotlin         34\n",
            "TypeScript     32\n",
            "C#             32\n",
            "Go             31\n",
            "Scala          28\n",
            ".NET           22\n",
            "Ruby           21\n",
            "SQL            18\n",
            "C              14\n",
            "Kubernetes      9\n",
            "React           9\n",
            "Node.js         8\n",
            "Angular         8\n",
            "R               8\n",
            "AWS             6\n",
            "ABAP            5\n",
            "Elixir          4\n",
            "QA              4\n",
            "Spark           4\n",
            "Embedded        4\n",
            "SAP             4\n",
            "Cloud           3\n",
            "Linux           3\n",
            "Name: count, dtype: int64\n"
          ]
        }
      ],
      "source": [
        "# Reemplazar valores repetidos\n",
        "reemplazo_tecnologias = {\n",
        "    'Javascript': 'JavaScript',\n",
        "    'javascript': 'JavaScript',\n",
        "    'JS': 'JavaScript',\n",
        "    'php': 'PHP',\n",
        "    'Typescript': 'TypeScript',\n",
        "    'javascript': 'JavaScript',\n",
        "    'java': 'Java',\n",
        "    'Python': 'Python',\n",
        "    'python': 'Python',\n",
        "    '.net': '.NET',\n",
        "    'Sql': 'SQL',\n",
        "    'js': 'JavaScript',\n",
        "    'kotlin': 'Kotlin',\n",
        "    'SAP / ABAP': 'SAP',\n",
        "    'Angular, Typescript': 'Angular',\n",
        "    'Pyrhon': 'Python',\n",
        "    'PM tools': 'Project Management Tools',\n",
        "    'Grails, Groovy': 'Grails',\n",
        "    'C++/c': 'C++',\n",
        "    'React / JavaScript': 'React',\n",
        "    'Python, cloud computing': 'Python',\n",
        "    'JavScript': 'JavaScript',\n",
        "    'Python (Django)': 'Django',\n",
        "    'Kubernetes, Terraform, GCP': 'Kubernetes',\n",
        "    'Kubrrnetes': 'Kubernetes',\n",
        "    'Java & PHP': 'Java',\n",
        "    'networking, linux, automation, cloud': 'Linux',\n",
        "    'Terraform, Kubernetes, AWS, GCP, Ansible, Puppet': 'Terraform',\n",
        "    'JS, WDIO': 'JavaScript',\n",
        "    'Офмф': 'Otro',\n",
        "    'Clojure': 'Clojure',\n",
        "    'React JS': 'React',\n",
        "    'TypeScript/Angular': 'Angular',\n",
        "    'golang': 'Go',\n",
        "    'Kotlin/PHP': 'Kotlin',\n",
        "    'SAP ABAP': 'SAP',\n",
        "    'Cobol': 'COBOL',\n",
        "    'AI': 'Artificial Intelligence',\n",
        "    'Js, reactJS': 'React',\n",
        "    'pythin': 'Python',\n",
        "    'julia': 'Julia',\n",
        "    'Angular, TypeScript': 'Angular',\n",
        "    'python, scala': 'Python',\n",
        "    'Django, Flask, Plotly Dash': 'Django',\n",
        "    'c++': 'C++',\n",
        "    'JS, Java': 'JavaScript',\n",
        "    'Python, Pytorch': 'Python',\n",
        "    'PS, Sketch, React, CSS3': 'React',\n",
        "    'Python/NLP': 'Python',\n",
        "    'Scala, Apache Spark': 'Scala',\n",
        "    'Swift, Objective-C': 'Swift',\n",
        "    'React.js / TypeScript': 'React',\n",
        "    'BI, DWH, ETL/ELT': 'BI',\n",
        "    'PL/SQL': 'SQL',\n",
        "    'scala': 'Scala',\n",
        "    'Java / Scala': 'Java',\n",
        "    'Python, database technologies': 'Python',\n",
        "    'C++, C#': 'C++',\n",
        "    'Java Backend': 'Java',\n",
        "    '.Net, Angular': '.NET',\n",
        "    'c/c++': 'C++',\n",
        "    'Kuberenetes, Openstack': 'Kubernetes',\n",
        "    'JavaScript, TypeScript': 'TypeScript',\n",
        "    'Sql': 'SQL',\n",
        "    'Javascript, Angular': 'Angular',\n",
        "    'SAS,SQL,Python': 'SAS',\n",
        "    'Node': 'Node.js',\n",
        "    'Python/SQL': 'Python',\n",
        "    'php, js, python, docker': 'PHP',\n",
        "    'C, Matlab': 'C',\n",
        "    'TypeScript, Kotlin': 'TypeScript',\n",
        "    'Tricentis Tosca': 'Tricentis Tosca',\n",
        "    'Javascript/Typescript': 'TypeScript',\n",
        "    'Java & Distributed Systems Stuff': 'Java',\n",
        "    'jenkins bash': 'Jenkins',\n",
        "    'Test Management': 'Test Management',\n",
        "    'NodeJS/TS': 'Node.js',\n",
        "    'PHP/MySQL': 'PHP',\n",
        "    'NLP, Python': 'NLP',\n",
        "    'Python, Whole Apache Data Science Stack, AWS': 'Python',\n",
        "    'Embedded C++': 'C++',\n",
        "    'NodsJs': 'Node.js',\n",
        "    'Swift, Objective-C, iOS': 'Swift',\n",
        "    'typescript': 'TypeScript',\n",
        "    'DC Management': 'DC Management',\n",
        "    'Java, angular, Aws': 'Java',\n",
        "    'Swift, objective-c': 'Swift',\n",
        "    'Qlik BI Tool, SQL': 'Qlik',\n",
        "    'c#': 'C#',\n",
        "    'Frontend: react, node.js': 'React',\n",
        "    'Js, TypeScript, Angular': 'Angular',\n",
        "    'Java, terraform': 'Java',\n",
        "    'Javascript': 'JavaScript',\n",
        "    'Angular, React': 'Angular',\n",
        "    'NodeJS, Typescript, AWS': 'Node.js',\n",
        "    'Java, JS': 'Java',\n",
        "    'Typescript / Angular': 'Angular',\n",
        "    'C++, Java, Embedded C': 'C++',\n",
        "    'TypeScript, JavaScript': 'TypeScript',\n",
        "    'C# .NET': 'C#',\n",
        "    'AWS, GCP, Python,K8s': 'AWS',\n",
        "    'Aws Hadoop Postgre Typescript': 'AWS',\n",
        "    'Go/Python': 'Go',\n",
        "    'С#': 'C#',\n",
        "    'JavaScript/ES6': 'JavaScript',\n",
        "    'Hardware': 'Hardware',\n",
        "    'Js': 'JavaScript',\n",
        "    'android': 'Android',\n",
        "    'ML': 'Machine Learning',\n",
        "    'Scala, React.js': 'Scala',\n",
        "    'Ml/Python': 'Machine Learning',\n",
        "    'JavaScript/TypeScript': 'TypeScript',\n",
        "    'Azure, SAP': 'Azure',\n",
        "    'Java, JavaScript': 'Java',\n",
        "    'React/Typescript': 'React',\n",
        "    'Golang': 'Go',\n",
        "    'Python + SQL': 'Python',\n",
        "    'Terraform': 'Terraform',\n",
        "    'Java, .Net': 'Java',\n",
        "    'Python, statistics, SQL': 'Python',\n",
        "    'Sql, BQ, tableau, gtm, ga': 'SQL',\n",
        "    'React': 'React',\n",
        "    'Management': 'Management',\n",
        "    'Java, Kotlin': 'Java',\n",
        "    'Nodejs': 'Node.js',\n",
        "    'TS': 'TypeScript',\n",
        "    'sql': 'SQL',\n",
        "    'Spark, Pytorch': 'Spark',\n",
        "    'java/scala/go/clouds/devops': 'DevOps',\n",
        "    'Java': 'Java',\n",
        "    'Linux/UNIX, GIT, Virtualisation Platforms, *shell(s) scripts': 'Linux',\n",
        "    'Sketch, Figma': 'Sketch',\n",
        "    'k8s': 'Kubernetes',\n",
        "    'Typescript, Web apps': 'TypeScript',\n",
        "    'Java/Groovy': 'Java',\n",
        "    'Java/C++': 'Java',\n",
        "    'embedded': 'Embedded',\n",
        "    'Scala / Python': 'Scala',\n",
        "    'Java/Scala': 'Java',\n",
        "    'Web developer': 'Web Development',\n",
        "    'TypeScript, React': 'TypeScript',\n",
        "    'Python / JavaScript (React)': 'Python',\n",
        "    'JavaScript / typescript': 'TypeScript',\n",
        "    'Terraform': 'Terraform',\n",
        "    'JAVA': 'Java',\n",
        "    'Apache Spark': 'Spark',\n",
        "    'SAP BW / ABAP': 'SAP BW ABAP',\n",
        "    'Go, PHP, SQL': 'Go',\n",
        "    'Kotlin': 'Kotlin',\n",
        "    'C#/.NET': 'C#',\n",
        "    'Kotlin, Java': 'Kotlin',\n",
        "    'Linux Kernel': 'Linux Kernel',\n",
        "    'Android/Kotlin': 'Android',\n",
        "    'yaml': 'YAML',\n",
        "    'Javascript': 'JavaScript',\n",
        "    'javascript': 'JavaScript',\n",
        "    'Javascript / Typescript': 'JavaScript',\n",
        "    'JavaScript/Typescript': 'JavaScript',\n",
        "    'JavaScript / TypeScript': 'JavaScript',\n",
        "    'JavaScript ': 'JavaScript',\n",
        "    'JS': 'JavaScript',\n",
        "    'js': 'JavaScript',\n",
        "    'python': 'Python',\n",
        "    'Python ': 'Python',\n",
        "    'Python, SQL': 'Python',\n",
        "    'java': 'Java',\n",
        "    'Java/Kotlin': 'Java',\n",
        "    'php': 'PHP',\n",
        "    'Php': 'PHP',\n",
        "    'PHP ': 'PHP',\n",
        "    'C++/c ': 'C++',\n",
        "    'c++': 'C++',\n",
        "    'C++/c ': 'C++',\n",
        "    'C#, .net core': 'C#',\n",
        "    'Golang': 'Go',\n",
        "    'go': 'Go',\n",
        "    'kotlin': 'Kotlin',\n",
        "    'Kotlin/PHP': 'Kotlin',\n",
        "    'Typescript': 'TypeScript',\n",
        "    'TypeScript/Angular': 'TypeScript',\n",
        "    'Ruby on Rails': 'Ruby',\n",
        "    'iOS': 'Swift',\n",
        "    '.net': '.NET',\n",
        "    '.Net': '.NET',\n",
        "    'C, C++': 'C',\n",
        "    'C/C++': 'C',\n",
        "    'Sql ': 'SQL',\n",
        "    'Android': 'Kotlin',\n",
        "    'React / JavaScript': 'React',\n",
        "    'React JS': 'React',\n",
        "}\n",
        "encuesta['tecnologia'] = encuesta['tecnologia'].replace(reemplazo_tecnologias)\n",
        "\n",
        "# Definir umbral minimo de representación\n",
        "umbral_representacion = 3\n",
        "\n",
        "# Identificar tecnologías poco representadas\n",
        "frecuencia_tecnologia = encuesta['tecnologia'].value_counts()\n",
        "tecnologias_poco_representadas = frecuencia_tecnologia[frecuencia_tecnologia < umbral_representacion].index\n",
        "\n",
        "# Reemplazar tecnologías poco representados con 'Otro'\n",
        "encuesta.loc[encuesta['tecnologia'].isin(tecnologias_poco_representadas), 'tecnologia'] = 'Otro'\n",
        "\n",
        "# Contar cantidad por tecnología\n",
        "cantidad_por_tecnologia = encuesta['tecnologia'].value_counts()\n",
        "\n",
        "# Mostrar resultados\n",
        "print(\"Cantidad por tecnología:\")\n",
        "print(cantidad_por_tecnologia)"
      ]
    },
    {
      "cell_type": "code",
      "execution_count": 22,
      "metadata": {
        "colab": {
          "base_uri": "https://localhost:8080/"
        },
        "id": "_hKa3VwUNOTg",
        "outputId": "99aa387a-507a-4ef4-f164-04d7e89e6153"
      },
      "outputs": [
        {
          "name": "stdout",
          "output_type": "stream",
          "text": [
            "Descripción estadística de la columna salario:\n",
            "count    1.030000e+03\n",
            "mean     5.567713e+05\n",
            "std      1.557724e+07\n",
            "min      1.000100e+04\n",
            "25%      5.900000e+04\n",
            "50%      7.000000e+04\n",
            "75%      8.000000e+04\n",
            "max      5.000000e+08\n",
            "Name: salario, dtype: float64\n",
            "\n",
            "Orden de los valores de la columna salario de menor a mayor:\n",
            "982         10001.0\n",
            "883         10001.0\n",
            "366         10164.0\n",
            "1135        11500.0\n",
            "680         12000.0\n",
            "           ...     \n",
            "574        200000.0\n",
            "804        240000.0\n",
            "630        250000.0\n",
            "778        850000.0\n",
            "853     500000000.0\n",
            "Name: salario, Length: 1030, dtype: float64\n"
          ]
        }
      ],
      "source": [
        "# Calcular estadísticos descriptivos\n",
        "descripcion = encuesta['salario'].describe()\n",
        "valores_ordenados = encuesta['salario'].sort_values()\n",
        "\n",
        "# Mostrar resultados\n",
        "print(\"Descripción estadística de la columna salario:\")\n",
        "print(descripcion)\n",
        "\n",
        "print(\"\\nOrden de los valores de la columna salario de menor a mayor:\")\n",
        "print(valores_ordenados)"
      ]
    },
    {
      "cell_type": "code",
      "execution_count": 23,
      "metadata": {
        "colab": {
          "base_uri": "https://localhost:8080/"
        },
        "id": "8I_95FEzNwiR",
        "outputId": "719fee4b-be8b-4bf1-a657-75c7cd963067"
      },
      "outputs": [
        {
          "name": "stdout",
          "output_type": "stream",
          "text": [
            "Descripción estadística de la columna salario:\n",
            "count       961.000000\n",
            "mean      68990.469303\n",
            "std       15330.733416\n",
            "min       29000.000000\n",
            "25%       60000.000000\n",
            "50%       68500.000000\n",
            "75%       80000.000000\n",
            "max      110000.000000\n",
            "Name: salario, dtype: float64\n",
            "\n",
            "Orden de los valores de la columna salario de menor a mayor:\n",
            "755      29000\n",
            "675      30000\n",
            "1017     30000\n",
            "444      30000\n",
            "1183     30000\n",
            "         ...  \n",
            "1186    110000\n",
            "790     110000\n",
            "1068    110000\n",
            "795     110000\n",
            "1250    110000\n",
            "Name: salario, Length: 961, dtype: int32\n"
          ]
        }
      ],
      "source": [
        "# Borrar datos atípicos columna 'salario'\n",
        "encuesta = borrar_valores_atipicos(encuesta, 'salario')\n",
        "\n",
        "# Cambiar tipo de de dato\n",
        "encuesta['salario'] = encuesta['salario'].astype('int')\n",
        "\n",
        "# Calcular estadísticos descriptivos\n",
        "descripcion = encuesta['salario'].describe()\n",
        "valores_ordenados = encuesta['salario'].sort_values()\n",
        "\n",
        "# Mostrar resultados\n",
        "print(\"Descripción estadística de la columna salario:\")\n",
        "print(descripcion)\n",
        "\n",
        "print(\"\\nOrden de los valores de la columna salario de menor a mayor:\")\n",
        "print(valores_ordenados)"
      ]
    },
    {
      "cell_type": "code",
      "execution_count": 24,
      "metadata": {
        "colab": {
          "base_uri": "https://localhost:8080/"
        },
        "id": "T9axtC5ImWwV",
        "outputId": "ed2676b8-4eb0-420e-8424-0af9d62ed2e7"
      },
      "outputs": [
        {
          "name": "stdout",
          "output_type": "stream",
          "text": [
            "Cantidad por estado:\n",
            "estado\n",
            "Full-time employee                                                                 944\n",
            "Self-employed (freelancer)                                                           9\n",
            "Part-time employee                                                                   3\n",
            "Founder                                                                              2\n",
            "Full-time position, part-time position, & self-employed (freelancing, tutoring)      1\n",
            "Intern                                                                               1\n",
            "full-time, but 32 hours per week (it was my request, I'm a student)                  1\n",
            "Name: count, dtype: int64\n"
          ]
        }
      ],
      "source": [
        "# Contar cantidad por estado\n",
        "cantidad_por_estado = encuesta['estado'].value_counts()\n",
        "\n",
        "# Mostrar resultados\n",
        "print(\"Cantidad por estado:\")\n",
        "print(cantidad_por_estado)"
      ]
    },
    {
      "cell_type": "code",
      "execution_count": 25,
      "metadata": {
        "colab": {
          "base_uri": "https://localhost:8080/"
        },
        "id": "vXln_v4lnuff",
        "outputId": "1c858ae5-8553-41b6-b4f8-edfaa9dd4321"
      },
      "outputs": [
        {
          "name": "stdout",
          "output_type": "stream",
          "text": [
            "Cantidad por estado:\n",
            "estado\n",
            "Full-time employee            948\n",
            "Self-employed (freelancer)      9\n",
            "Part-time employee              4\n",
            "Name: count, dtype: int64\n"
          ]
        }
      ],
      "source": [
        "# Reemplazar valores atipicos\n",
        "reemplazo_estado = {\n",
        "    'Founder':'Full-time employee',\n",
        "    \"full-time, but 32 hours per week (it was my request, I'm a student)\": 'Full-time employee',\n",
        "    'Werkstudent':'Part-time employee',\n",
        "    'Full-time position, part-time position, & self-employed (freelancing, tutoring)':'Full-time employee',\n",
        "    'Intern':'Part-time employee'\n",
        "}\n",
        "encuesta['estado'] = encuesta['estado'].replace(reemplazo_estado)\n",
        "\n",
        "# Contar cantidad por estado\n",
        "cantidad_por_estado = encuesta['estado'].value_counts()\n",
        "\n",
        "# Mostrar resultados\n",
        "print(\"Cantidad por estado:\")\n",
        "print(cantidad_por_estado)"
      ]
    },
    {
      "cell_type": "code",
      "execution_count": 26,
      "metadata": {
        "colab": {
          "base_uri": "https://localhost:8080/"
        },
        "id": "WUDXk9obrT7T",
        "outputId": "5ba15582-45fe-415e-a70a-8c4ebeb61915"
      },
      "outputs": [
        {
          "name": "stdout",
          "output_type": "stream",
          "text": [
            "Cantidad por contrato:\n",
            "contrato\n",
            "Unlimited contract    926\n",
            "Temporary contract     35\n",
            "Name: count, dtype: int64\n"
          ]
        }
      ],
      "source": [
        "# Contar cantidad por contrato\n",
        "cantidad_por_contrato = encuesta['contrato'].value_counts()\n",
        "\n",
        "# Mostrar resultados\n",
        "print(\"Cantidad por contrato:\")\n",
        "print(cantidad_por_contrato)"
      ]
    },
    {
      "cell_type": "code",
      "execution_count": 27,
      "metadata": {
        "colab": {
          "base_uri": "https://localhost:8080/"
        },
        "id": "pyKhSVTp-C3I",
        "outputId": "fce7ec64-c603-423c-aa81-565ed275b75c"
      },
      "outputs": [
        {
          "name": "stdout",
          "output_type": "stream",
          "text": [
            "Numero de idiomas unicos: 10\n",
            "Cantidad por idioma:\n",
            "idioma\n",
            "English               812\n",
            "German                135\n",
            "Russian                 5\n",
            "English and German      2\n",
            "Spanish                 2\n",
            "Italian                 1\n",
            "Czech                   1\n",
            "French                  1\n",
            "both                    1\n",
            "Russian, English        1\n",
            "Name: count, dtype: int64\n"
          ]
        }
      ],
      "source": [
        "# Contar cantidad por idioma\n",
        "cantidad_por_idioma = encuesta['idioma'].value_counts()\n",
        "cantidad_de_idiomas = len(cantidad_por_idioma)\n",
        "\n",
        "# Mostrar resultados\n",
        "print(f'Numero de idiomas unicos: {cantidad_de_idiomas}')\n",
        "print(\"Cantidad por idioma:\")\n",
        "print(cantidad_por_idioma)"
      ]
    },
    {
      "cell_type": "code",
      "execution_count": 28,
      "metadata": {
        "colab": {
          "base_uri": "https://localhost:8080/"
        },
        "id": "6WagC5YF-h6f",
        "outputId": "c201d487-8665-4c58-a8a5-4ee0aeb5c15a"
      },
      "outputs": [
        {
          "name": "stdout",
          "output_type": "stream",
          "text": [
            "Numero de idiomas unicos: 4\n",
            "Cantidad por idioma:\n",
            "idioma\n",
            "English    812\n",
            "German     135\n",
            "Otro         9\n",
            "Russian      5\n",
            "Name: count, dtype: int64\n"
          ]
        }
      ],
      "source": [
        "# Definir umbral minimo de representación\n",
        "umbral_representacion = 5\n",
        "\n",
        "# Identificar idiomas poco representados\n",
        "frecuencia_idioma = encuesta['idioma'].value_counts()\n",
        "idiomas_poco_representados = frecuencia_idioma[frecuencia_idioma < umbral_representacion].index\n",
        "\n",
        "# Reemplazar idiomas poco representados con 'Otro'\n",
        "encuesta.loc[encuesta['idioma'].isin(idiomas_poco_representados), 'idioma'] = 'Otro'\n",
        "\n",
        "# Contar cantidad por idioma\n",
        "cantidad_por_idioma = encuesta['idioma'].value_counts()\n",
        "cantidad_de_idiomas = len(cantidad_por_idioma)\n",
        "\n",
        "# Mostrar resultados\n",
        "print(f'Numero de idiomas unicos: {cantidad_de_idiomas}')\n",
        "print(\"Cantidad por idioma:\")\n",
        "print(cantidad_por_idioma)"
      ]
    },
    {
      "cell_type": "code",
      "execution_count": 29,
      "metadata": {
        "colab": {
          "base_uri": "https://localhost:8080/"
        },
        "id": "0wI9Cok0_FTi",
        "outputId": "9df9fac8-09a7-4af5-938d-4e439d092dc8"
      },
      "outputs": [
        {
          "name": "stdout",
          "output_type": "stream",
          "text": [
            "Cantidad por tamaño de la empresa:\n",
            "tamaño_empresa\n",
            "1000+       346\n",
            "101-1000    332\n",
            "11-50       131\n",
            "51-100      111\n",
            "up to 10     41\n",
            "Name: count, dtype: int64\n"
          ]
        }
      ],
      "source": [
        "# Contar cantidad por tamaño de empresa\n",
        "cantidad_por_empresa = encuesta['tamaño_empresa'].value_counts()\n",
        "\n",
        "# Mostrar resultados\n",
        "print(\"Cantidad por tamaño de la empresa:\")\n",
        "print(cantidad_por_empresa)"
      ]
    },
    {
      "cell_type": "code",
      "execution_count": 30,
      "metadata": {
        "colab": {
          "base_uri": "https://localhost:8080/"
        },
        "id": "WJwRf6TgADUu",
        "outputId": "a331a732-14a0-4eb2-e8ee-895f76658cd2"
      },
      "outputs": [
        {
          "name": "stdout",
          "output_type": "stream",
          "text": [
            "<class 'pandas.core.frame.DataFrame'>\n",
            "Index: 961 entries, 0 to 1252\n",
            "Data columns (total 12 columns):\n",
            " #   Column          Non-Null Count  Dtype \n",
            "---  ------          --------------  ----- \n",
            " 0   edad            961 non-null    int32 \n",
            " 1   genero          961 non-null    object\n",
            " 2   ciudad          961 non-null    object\n",
            " 3   posicion        961 non-null    object\n",
            " 4   experiencia     961 non-null    int32 \n",
            " 5   nivel           961 non-null    object\n",
            " 6   tecnologia      961 non-null    object\n",
            " 7   salario         961 non-null    int32 \n",
            " 8   estado          961 non-null    object\n",
            " 9   contrato        961 non-null    object\n",
            " 10  idioma          961 non-null    object\n",
            " 11  tamaño_empresa  961 non-null    object\n",
            "dtypes: int32(3), object(9)\n",
            "memory usage: 86.3+ KB\n"
          ]
        }
      ],
      "source": [
        "# Información final\n",
        "encuesta.info()"
      ]
    },
    {
      "cell_type": "code",
      "execution_count": 31,
      "metadata": {
        "id": "kuXdDJBhAOrx"
      },
      "outputs": [],
      "source": [
        "# Exportar nueva base de datos\n",
        "encuesta.to_csv('../datos/procesados/encuesta_filtrada.csv', index=False)"
      ]
    }
  ],
  "metadata": {
    "colab": {
      "provenance": []
    },
    "kernelspec": {
      "display_name": "Python 3",
      "name": "python3"
    },
    "language_info": {
      "codemirror_mode": {
        "name": "ipython",
        "version": 3
      },
      "file_extension": ".py",
      "mimetype": "text/x-python",
      "name": "python",
      "nbconvert_exporter": "python",
      "pygments_lexer": "ipython3",
      "version": "3.11.1"
    }
  },
  "nbformat": 4,
  "nbformat_minor": 0
}
