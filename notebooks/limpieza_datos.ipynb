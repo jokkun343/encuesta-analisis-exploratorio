{
  "cells": [
    {
      "cell_type": "code",
      "execution_count": 1,
      "metadata": {
        "id": "AyzOOngmDVXC"
      },
      "outputs": [],
      "source": [
        "# Importar librerías y funciones\n",
        "import pandas as pd"
      ]
    },
    {
      "cell_type": "code",
      "execution_count": 2,
      "metadata": {
        "id": "bjyTJUmwDbFP"
      },
      "outputs": [],
      "source": [
        "# Cargar base de datos\n",
        "encuesta = pd.read_csv('../datos/original/IT Salary Survey EU  2020.csv')"
      ]
    },
    {
      "cell_type": "code",
      "execution_count": 3,
      "metadata": {
        "colab": {
          "base_uri": "https://localhost:8080/"
        },
        "id": "5beFAlalFQq6",
        "outputId": "935ca48c-e5b4-4fe5-d57c-287e5640c94d"
      },
      "outputs": [
        {
          "name": "stdout",
          "output_type": "stream",
          "text": [
            "Columnas de la base de datos:\n",
            "Timestamp\n",
            "Age\n",
            "Gender\n",
            "City\n",
            "Position \n",
            "Total years of experience\n",
            "Years of experience in Germany\n",
            "Seniority level\n",
            "Your main technology / programming language\n",
            "Other technologies/programming languages you use often\n",
            "Yearly brutto salary (without bonus and stocks) in EUR\n",
            "Yearly bonus + stocks in EUR\n",
            "Annual brutto salary (without bonus and stocks) one year ago. Only answer if staying in the same country\n",
            "Annual bonus+stocks one year ago. Only answer if staying in same country\n",
            "Number of vacation days\n",
            "Employment status\n",
            "Сontract duration\n",
            "Main language at work\n",
            "Company size\n",
            "Company type\n",
            "Have you lost your job due to the coronavirus outbreak?\n",
            "Have you been forced to have a shorter working week (Kurzarbeit)? If yes, how many hours per week\n",
            "Have you received additional monetary support from your employer due to Work From Home? If yes, how much in 2020 in EUR\n"
          ]
        }
      ],
      "source": [
        "# Visualizar columnas\n",
        "print(\"Columnas de la base de datos:\")\n",
        "for columna in encuesta.columns:\n",
        "    print(columna)"
      ]
    },
    {
      "cell_type": "code",
      "execution_count": 4,
      "metadata": {
        "colab": {
          "base_uri": "https://localhost:8080/"
        },
        "id": "cb_5Mp86GjHe",
        "outputId": "ad420258-8a0a-4f32-fa07-82f72724fe53"
      },
      "outputs": [
        {
          "name": "stdout",
          "output_type": "stream",
          "text": [
            "fecha\n",
            "edad\n",
            "genero\n",
            "ciudad\n",
            "posicion\n",
            "experiencia\n",
            "experiencia_alemania\n",
            "nivel\n",
            "tecnologia\n",
            "segundo_lenguaje\n",
            "salario\n",
            "bonos\n",
            "salario_anterior\n",
            "bonos_anterior\n",
            "vacaciones\n",
            "estado\n",
            "contrato\n",
            "idioma\n",
            "tamaño_empresa\n",
            "tipo_empresa\n",
            "desempleo_covid\n",
            "horas_covid\n",
            "apoyo_covid\n"
          ]
        }
      ],
      "source": [
        "# Renonbrar columnas\n",
        "nuevos_nombres = [\n",
        "    'fecha',\n",
        "    'edad',\n",
        "    'genero',\n",
        "    'ciudad',\n",
        "    'posicion',\n",
        "    'experiencia',\n",
        "    'experiencia_alemania',\n",
        "    'nivel',\n",
        "    'tecnologia',\n",
        "    'segundo_lenguaje',\n",
        "    'salario',\n",
        "    'bonos',\n",
        "    'salario_anterior',\n",
        "    'bonos_anterior',\n",
        "    'vacaciones',\n",
        "    'estado',\n",
        "    'contrato',\n",
        "    'idioma',\n",
        "    'tamaño_empresa',\n",
        "    'tipo_empresa',\n",
        "    'desempleo_covid',\n",
        "    'horas_covid',\n",
        "    'apoyo_covid'\n",
        "]\n",
        "\n",
        "encuesta.columns = nuevos_nombres\n",
        "\n",
        "# Visualizar columnas\n",
        "for columna in encuesta.columns:\n",
        "    print(columna)"
      ]
    },
    {
      "cell_type": "code",
      "execution_count": 5,
      "metadata": {
        "colab": {
          "base_uri": "https://localhost:8080/"
        },
        "id": "w0pF-QC_IFGT",
        "outputId": "86ed880a-7a27-4ede-ccfc-dc863bb64c75"
      },
      "outputs": [
        {
          "name": "stdout",
          "output_type": "stream",
          "text": [
            "Columnas de la base de datos:\n",
            "edad\n",
            "genero\n",
            "ciudad\n",
            "posicion\n",
            "experiencia\n",
            "nivel\n",
            "tecnologia\n",
            "salario\n",
            "estado\n",
            "contrato\n",
            "idioma\n",
            "tamaño_empresa\n"
          ]
        }
      ],
      "source": [
        "# Eliminar columnas que no serán analizadas\n",
        "columnas_a_eliminar = [\n",
        "    'fecha',\n",
        "    'experiencia_alemania',\n",
        "    'salario_anterior',\n",
        "    'bonos_anterior',\n",
        "    'desempleo_covid',\n",
        "    'horas_covid',\n",
        "    'apoyo_covid',\n",
        "    'segundo_lenguaje',\n",
        "    'bonos',\n",
        "    'vacaciones',\n",
        "    'tipo_empresa'\n",
        "]\n",
        "encuesta.drop(columnas_a_eliminar, axis=1, inplace=True)\n",
        "\n",
        "# Visualizar columnas\n",
        "print(\"Columnas de la base de datos:\")\n",
        "for columna in encuesta.columns:\n",
        "    print(columna)"
      ]
    },
    {
      "cell_type": "code",
      "execution_count": 6,
      "metadata": {
        "colab": {
          "base_uri": "https://localhost:8080/"
        },
        "id": "hrxAMLC_DZpR",
        "outputId": "f3974f71-c784-44a4-ab1b-7dce27a73621"
      },
      "outputs": [
        {
          "name": "stdout",
          "output_type": "stream",
          "text": [
            "<class 'pandas.core.frame.DataFrame'>\n",
            "RangeIndex: 1253 entries, 0 to 1252\n",
            "Data columns (total 12 columns):\n",
            " #   Column          Non-Null Count  Dtype  \n",
            "---  ------          --------------  -----  \n",
            " 0   edad            1226 non-null   float64\n",
            " 1   genero          1243 non-null   object \n",
            " 2   ciudad          1253 non-null   object \n",
            " 3   posicion        1247 non-null   object \n",
            " 4   experiencia     1237 non-null   object \n",
            " 5   nivel           1241 non-null   object \n",
            " 6   tecnologia      1126 non-null   object \n",
            " 7   salario         1253 non-null   float64\n",
            " 8   estado          1236 non-null   object \n",
            " 9   contrato        1224 non-null   object \n",
            " 10  idioma          1237 non-null   object \n",
            " 11  tamaño_empresa  1235 non-null   object \n",
            "dtypes: float64(2), object(10)\n",
            "memory usage: 117.6+ KB\n"
          ]
        }
      ],
      "source": [
        "# Información inicial\n",
        "encuesta.info()"
      ]
    },
    {
      "cell_type": "code",
      "execution_count": 7,
      "metadata": {
        "colab": {
          "base_uri": "https://localhost:8080/"
        },
        "id": "mguqNwQGSIpZ",
        "outputId": "059a850c-b0ce-44fe-c908-4bdd1403e992"
      },
      "outputs": [
        {
          "name": "stdout",
          "output_type": "stream",
          "text": [
            "Valores nulos por columna:\n",
            "edad               27\n",
            "genero             10\n",
            "ciudad              0\n",
            "posicion            6\n",
            "experiencia        16\n",
            "nivel              12\n",
            "tecnologia        127\n",
            "salario             0\n",
            "estado             17\n",
            "contrato           29\n",
            "idioma             16\n",
            "tamaño_empresa     18\n",
            "dtype: int64\n"
          ]
        }
      ],
      "source": [
        "# Contar valores nulos por columna\n",
        "valores_nulos_por_columna = encuesta.isna().sum()\n",
        "\n",
        "# Mostrar resultados\n",
        "print(\"Valores nulos por columna:\")\n",
        "print(valores_nulos_por_columna)"
      ]
    },
    {
      "cell_type": "code",
      "execution_count": 8,
      "metadata": {
        "colab": {
          "base_uri": "https://localhost:8080/"
        },
        "id": "tsNYOglgQhD7",
        "outputId": "30e16139-3ed2-4ea0-a1d2-90f3c15d6310"
      },
      "outputs": [
        {
          "name": "stdout",
          "output_type": "stream",
          "text": [
            "Valores nulos por columna:\n",
            "edad              0\n",
            "genero            0\n",
            "ciudad            0\n",
            "posicion          0\n",
            "experiencia       0\n",
            "nivel             0\n",
            "tecnologia        0\n",
            "salario           0\n",
            "estado            0\n",
            "contrato          0\n",
            "idioma            0\n",
            "tamaño_empresa    0\n",
            "dtype: int64\n"
          ]
        }
      ],
      "source": [
        "# Limpiar valores nulos\n",
        "encuesta = encuesta.dropna()\n",
        "\n",
        "# Contar valores nulos por columna\n",
        "valores_nulos_por_columna = encuesta.isna().sum()\n",
        "\n",
        "# Mostrar resultados\n",
        "print(\"Valores nulos por columna:\")\n",
        "print(valores_nulos_por_columna)"
      ]
    },
    {
      "cell_type": "code",
      "execution_count": 9,
      "metadata": {
        "id": "kNAWfxXzMGRX"
      },
      "outputs": [],
      "source": [
        "# Declarar función borrar valores atípicos\n",
        "def borrar_valores_atipicos(base_de_datos, columna):\n",
        "    Q1 = base_de_datos[columna].quantile(0.25)\n",
        "    Q3 = base_de_datos[columna].quantile(0.75)\n",
        "    rango = Q3 - Q1\n",
        "    limite_inferior = Q1 - 1.5 * rango\n",
        "    limite_superior = Q3 + 1.5 * rango\n",
        "    base_de_datos = base_de_datos.drop(base_de_datos[base_de_datos[columna] < limite_inferior].index)\n",
        "    base_de_datos = base_de_datos.drop(base_de_datos[base_de_datos[columna] > limite_superior].index)\n",
        "    return base_de_datos"
      ]
    },
    {
      "cell_type": "code",
      "execution_count": 10,
      "metadata": {
        "colab": {
          "base_uri": "https://localhost:8080/"
        },
        "id": "hcTEGmU5OiQl",
        "outputId": "ff25c42a-7fa3-4f02-c7f1-29438391e9a8"
      },
      "outputs": [
        {
          "name": "stdout",
          "output_type": "stream",
          "text": [
            "Descripción estadística de la columna edad:\n",
            "count    1070.000000\n",
            "mean       32.358879\n",
            "std         5.555923\n",
            "min        20.000000\n",
            "25%        29.000000\n",
            "50%        32.000000\n",
            "75%        35.000000\n",
            "max        66.000000\n",
            "Name: edad, dtype: float64\n",
            "\n",
            "Orden de los valores de la columna edad de menor a mayor:\n",
            "804     20.0\n",
            "1052    22.0\n",
            "350     22.0\n",
            "1099    22.0\n",
            "982     22.0\n",
            "        ... \n",
            "1159    56.0\n",
            "232     56.0\n",
            "23      59.0\n",
            "296     65.0\n",
            "59      66.0\n",
            "Name: edad, Length: 1070, dtype: float64\n"
          ]
        }
      ],
      "source": [
        "# Descripción estadística de la columna edad\n",
        "print(\"Descripción estadística de la columna edad:\")\n",
        "print(encuesta.edad.describe())\n",
        "\n",
        "# Orden de los valores de la columna edad de menor a mayor\n",
        "print(\"\\nOrden de los valores de la columna edad de menor a mayor:\")\n",
        "print(encuesta.edad.sort_values())"
      ]
    },
    {
      "cell_type": "code",
      "execution_count": 11,
      "metadata": {
        "colab": {
          "base_uri": "https://localhost:8080/"
        },
        "id": "TtOSpMtyOSj_",
        "outputId": "cf053b32-3348-4c60-8aa2-46b3befee495"
      },
      "outputs": [
        {
          "name": "stdout",
          "output_type": "stream",
          "text": [
            "Descripción estadística de la columna edad:\n",
            "count    1039.000000\n",
            "mean       31.847931\n",
            "std         4.669003\n",
            "min        20.000000\n",
            "25%        28.000000\n",
            "50%        32.000000\n",
            "75%        35.000000\n",
            "max        44.000000\n",
            "Name: edad, dtype: float64\n",
            "\n",
            "Orden de los valores de la columna edad de menor a mayor:\n",
            "804     20\n",
            "1052    22\n",
            "350     22\n",
            "1099    22\n",
            "982     22\n",
            "        ..\n",
            "836     44\n",
            "1145    44\n",
            "315     44\n",
            "1221    44\n",
            "720     44\n",
            "Name: edad, Length: 1039, dtype: int32\n"
          ]
        }
      ],
      "source": [
        "# Borrar datos atípicos columna edad\n",
        "encuesta = borrar_valores_atipicos(encuesta, 'edad')\n",
        "\n",
        "# Cambiar tipo de de dato\n",
        "encuesta.edad = encuesta.edad.astype('int')\n",
        "\n",
        "# Descripción estadística de la columna edad\n",
        "print(\"Descripción estadística de la columna edad:\")\n",
        "print(encuesta.edad.describe())\n",
        "\n",
        "# Orden de los valores de la columna edad de menor a mayor\n",
        "print(\"\\nOrden de los valores de la columna edad de menor a mayor:\")\n",
        "print(encuesta.edad.sort_values())"
      ]
    },
    {
      "cell_type": "code",
      "execution_count": 12,
      "metadata": {
        "colab": {
          "base_uri": "https://localhost:8080/"
        },
        "id": "n0uIgQncT5bO",
        "outputId": "6c3987f9-3384-4ae8-bfff-cc330d5f76e5"
      },
      "outputs": [
        {
          "name": "stdout",
          "output_type": "stream",
          "text": [
            "Cantidad por género:\n",
            "genero\n",
            "Male       886\n",
            "Female     151\n",
            "Diverse      2\n",
            "Name: count, dtype: int64\n"
          ]
        }
      ],
      "source": [
        "# Visualizar columna género\n",
        "print(\"Cantidad por género:\")\n",
        "print(encuesta.genero.value_counts())"
      ]
    },
    {
      "cell_type": "code",
      "execution_count": 13,
      "metadata": {
        "colab": {
          "base_uri": "https://localhost:8080/"
        },
        "id": "0QFpDElqUPH9",
        "outputId": "3a7c4b05-784f-4f02-d043-30065bb1e8b2"
      },
      "outputs": [
        {
          "name": "stdout",
          "output_type": "stream",
          "text": [
            "Cantidad por ciudad:\n",
            "ciudad\n",
            "Berlin         564\n",
            "Munich         196\n",
            "Hamburg         34\n",
            "Frankfurt       34\n",
            "Stuttgart       20\n",
            "              ... \n",
            "Cupertino        1\n",
            "Wroclaw          1\n",
            "Salzburg         1\n",
            "Milan            1\n",
            "Saarbrücken      1\n",
            "Name: count, Length: 107, dtype: int64\n"
          ]
        }
      ],
      "source": [
        "# Visualizar columna ciudad\n",
        "print(\"Cantidad por ciudad:\")\n",
        "print(encuesta.ciudad.value_counts())"
      ]
    },
    {
      "cell_type": "code",
      "execution_count": 14,
      "metadata": {
        "colab": {
          "base_uri": "https://localhost:8080/"
        },
        "id": "ISe643NlSaQB",
        "outputId": "e852091f-e569-45b4-c5ea-0963627d12ea"
      },
      "outputs": [
        {
          "name": "stdout",
          "output_type": "stream",
          "text": [
            "Cantidad por ciudad:\n",
            "posicion\n",
            "Software Engineer      346\n",
            "Backend Developer      159\n",
            "Data Scientist          95\n",
            "Frontend Developer      82\n",
            "QA Engineer             53\n",
            "Mobile Developer        51\n",
            "DevOps                  39\n",
            "ML Engineer             37\n",
            "Data Engineer           20\n",
            "Engineering Manager      9\n",
            "Product Manager          7\n",
            "Data Analyst             6\n",
            "Designer (UI/UX)         5\n",
            "Software Architect       4\n",
            "CTO                      4\n",
            "Fullstack Developer      4\n",
            "SRE                      3\n",
            "Team Lead                3\n",
            "Consultant               3\n",
            "Business Analyst         3\n",
            "Name: count, dtype: int64\n"
          ]
        }
      ],
      "source": [
        "# Visualizar columna posición\n",
        "print(\"Cantidad por ciudad:\")\n",
        "print(encuesta.posicion.value_counts().nlargest(20))"
      ]
    },
    {
      "cell_type": "code",
      "execution_count": 15,
      "metadata": {
        "colab": {
          "base_uri": "https://localhost:8080/"
        },
        "id": "Mohf-plFU7U4",
        "outputId": "a385e1c0-a56d-493f-aa8d-1f4dbb375ee9"
      },
      "outputs": [
        {
          "data": {
            "text/plain": [
              "posicion\n",
              "Software Engineer      346\n",
              "Backend Developer      159\n",
              "Otro                   118\n",
              "Data Scientist          95\n",
              "Frontend Developer      82\n",
              "QA Engineer             53\n",
              "Mobile Developer        51\n",
              "DevOps                  39\n",
              "ML Engineer             37\n",
              "Data Engineer           20\n",
              "Engineering Manager      9\n",
              "Product Manager          7\n",
              "Data Analyst             6\n",
              "Designer (UI/UX)         5\n",
              "Software Architect       4\n",
              "Fullstack Developer      4\n",
              "CTO                      4\n",
              "Name: count, dtype: int64"
            ]
          },
          "execution_count": 15,
          "metadata": {},
          "output_type": "execute_result"
        }
      ],
      "source": [
        "# Reemplazar valores poco representados\n",
        "otras_posiciones = encuesta.posicion.value_counts()[(encuesta.posicion.value_counts() < 4).values].index\n",
        "encuesta.loc[encuesta.posicion.isin(otras_posiciones),'posicion'] = 'Otro'\n",
        "# Visualizar columna posición\n",
        "encuesta.posicion.value_counts()"
      ]
    },
    {
      "cell_type": "code",
      "execution_count": 16,
      "metadata": {
        "colab": {
          "base_uri": "https://localhost:8080/"
        },
        "id": "6UofVwfqV9-1",
        "outputId": "1ee9d8cc-53c3-4525-ce9a-5a2cbd08aad6"
      },
      "outputs": [
        {
          "data": {
            "text/plain": [
              "array(['5', '7', '12', '4', '17', '6', '8', '15', '2', '14', '11', '18',\n",
              "       '13', '10', '3', '9', '19', '20', '5.5', '22', '25', '16', '0.8',\n",
              "       '1', '1.5', '21', '2.5', '28', '1,5', '24', '0', '4.5',\n",
              "       '1 (as QA Engineer) / 11 in total', '2,5', '15, thereof 8 as CTO',\n",
              "       '6 (not as a data scientist, but as a lab scientist)', '3.5',\n",
              "       'less than year'], dtype=object)"
            ]
          },
          "execution_count": 16,
          "metadata": {},
          "output_type": "execute_result"
        }
      ],
      "source": [
        "# Visualizar columna experiencia\n",
        "encuesta.experiencia.unique()"
      ]
    },
    {
      "cell_type": "code",
      "execution_count": 17,
      "metadata": {
        "colab": {
          "base_uri": "https://localhost:8080/"
        },
        "id": "VT1xcAKKZBom",
        "outputId": "5cee9df1-fe20-4598-aca9-a65436d18eda"
      },
      "outputs": [
        {
          "data": {
            "text/plain": [
              "array([ 5,  7, 12,  4, 17,  6,  8, 15,  2, 14, 11, 18, 13, 10,  3,  9, 19,\n",
              "       20, 16,  1,  0])"
            ]
          },
          "execution_count": 17,
          "metadata": {},
          "output_type": "execute_result"
        }
      ],
      "source": [
        "# Reemplazar valores no numericos\n",
        "encuesta.experiencia = encuesta.experiencia.str.replace(',','.')\n",
        "encuesta.experiencia = encuesta.experiencia.replace('1 (as QA Engineer) / 11 in total','11') \\\n",
        "                             .replace('6 (not as a data scientist. but as a lab scientist)', '6') \\\n",
        "                             .replace('less than year','1') \\\n",
        "                             .replace('15. thereof 8 as CTO', '15') \\\n",
        "                             .replace('5.5', '6') \\\n",
        "                             .replace('0.8', '1') \\\n",
        "                             .replace('1.5', '2') \\\n",
        "                             .replace('2.5', '3') \\\n",
        "                             .replace('4.5', '5') \\\n",
        "                             .replace('2.5', '3') \\\n",
        "                             .replace('3.5', '4')\n",
        "# Cambiar tipo de dato\n",
        "encuesta.experiencia = encuesta.experiencia.astype('int')\n",
        "# Borrar datos atípicos columna edad\n",
        "encuesta = borrar_valores_atipicos(encuesta, 'experiencia')\n",
        "# Visualizar columna experiencia\n",
        "encuesta.experiencia.unique()"
      ]
    },
    {
      "cell_type": "code",
      "execution_count": 18,
      "metadata": {
        "colab": {
          "base_uri": "https://localhost:8080/"
        },
        "id": "v8PvlmPZdPKz",
        "outputId": "54b490e0-5700-4345-ef7e-8acdefdea9a3"
      },
      "outputs": [
        {
          "data": {
            "text/plain": [
              "nivel\n",
              "Senior                       466\n",
              "Middle                       314\n",
              "Lead                         134\n",
              "Junior                        71\n",
              "Head                          29\n",
              "Principal                      2\n",
              "Intern                         1\n",
              "Entry level                    1\n",
              "Working Student                1\n",
              "C-Level                        1\n",
              "Student                        1\n",
              "intern                         1\n",
              "Director                       1\n",
              "C-level executive manager      1\n",
              "No level                       1\n",
              "CTO                            1\n",
              "Work Center Manager            1\n",
              "Manager                        1\n",
              "VP                             1\n",
              "student                        1\n",
              "Name: count, dtype: int64"
            ]
          },
          "execution_count": 18,
          "metadata": {},
          "output_type": "execute_result"
        }
      ],
      "source": [
        "# Visualizar columna nivel\n",
        "encuesta.nivel.value_counts()"
      ]
    },
    {
      "cell_type": "code",
      "execution_count": 19,
      "metadata": {
        "colab": {
          "base_uri": "https://localhost:8080/"
        },
        "id": "wTBLsQ_Ykyox",
        "outputId": "523b0ebb-5cc6-4f48-d70a-323001c937e1"
      },
      "outputs": [
        {
          "data": {
            "text/plain": [
              "nivel\n",
              "Senior    466\n",
              "Middle    314\n",
              "Lead      134\n",
              "Junior     71\n",
              "Head       29\n",
              "Name: count, dtype: int64"
            ]
          },
          "execution_count": 19,
          "metadata": {},
          "output_type": "execute_result"
        }
      ],
      "source": [
        "# Borrar valores poco comunes\n",
        "niveles_seleccionados = encuesta.nivel.value_counts()[:5].index.to_list()\n",
        "encuesta = encuesta[encuesta.nivel.isin(niveles_seleccionados)].reset_index(drop=True)\n",
        "# Visualizar columna nivel\n",
        "encuesta.nivel.value_counts()"
      ]
    },
    {
      "cell_type": "code",
      "execution_count": 20,
      "metadata": {
        "colab": {
          "base_uri": "https://localhost:8080/"
        },
        "id": "3qSvsYmzwoKp",
        "outputId": "cd5b39b2-3fc8-4fb8-9eae-90e8be7e67b8"
      },
      "outputs": [
        {
          "data": {
            "text/plain": [
              "tecnologia\n",
              "Java                       165\n",
              "Python                     145\n",
              "PHP                         52\n",
              "C++                         33\n",
              "JavaScript                  29\n",
              "Javascript                  27\n",
              "C#                          26\n",
              "Scala                       24\n",
              "Go                          23\n",
              "Swift                       23\n",
              "python                      22\n",
              "Kotlin                      22\n",
              "Python                      18\n",
              "Ruby                        17\n",
              "TypeScript                  14\n",
              ".NET                        13\n",
              "SQL                         12\n",
              "JS                          11\n",
              "iOS                         10\n",
              "C                            9\n",
              "java                         8\n",
              "Android                      8\n",
              "R                            8\n",
              "javascript                   7\n",
              "php                          7\n",
              "Typescript                   7\n",
              ".net                         6\n",
              "JavaScript                   6\n",
              "Javascript / Typescript      5\n",
              "Kubernetes                   5\n",
              "ABAP                         5\n",
              "Php                          4\n",
              "QA                           4\n",
              "Elixir                       4\n",
              "AWS                          4\n",
              "Node.js                      3\n",
              "Ruby on Rails                3\n",
              "Golang                       3\n",
              "Cloud                        3\n",
              "Embedded                     3\n",
              "React                        3\n",
              "Bash                         2\n",
              "js                           2\n",
              "Angular                      2\n",
              "JavaScript / TypeScript      2\n",
              "Java/Kotlin                  2\n",
              "JavaScript/Typescript        2\n",
              ".Net                         2\n",
              "Sql                          2\n",
              "go                           2\n",
              "Python, SQL                  2\n",
              "C/C++                        2\n",
              "Spark                        2\n",
              "C, C++                       2\n",
              "NodeJS                       2\n",
              "Figma                        2\n",
              "PHP                          2\n",
              "kotlin                       2\n",
              "Frontend                     2\n",
              "SAP                          2\n",
              "Name: count, dtype: int64"
            ]
          },
          "execution_count": 20,
          "metadata": {},
          "output_type": "execute_result"
        }
      ],
      "source": [
        "# Visualizar columna lenguaje programacion\n",
        "encuesta.tecnologia.value_counts()[:60]"
      ]
    },
    {
      "cell_type": "code",
      "execution_count": 21,
      "metadata": {
        "colab": {
          "base_uri": "https://localhost:8080/"
        },
        "id": "45ZtcndExB5o",
        "outputId": "3cae74f7-e6cc-47a7-b120-7dee5ca40b3c"
      },
      "outputs": [
        {
          "data": {
            "text/plain": [
              "tecnologia\n",
              "Python        187\n",
              "Java          175\n",
              "JavaScript     91\n",
              "PHP            65\n",
              "C++            34\n",
              "Kotlin         33\n",
              "Swift          33\n",
              "Go             28\n",
              "C#             28\n",
              "Scala          24\n",
              "TypeScript     22\n",
              ".NET           21\n",
              "Ruby           20\n",
              "SQL            14\n",
              "C              13\n",
              "R               8\n",
              "React           5\n",
              "Kubernetes      5\n",
              "NodeJS          5\n",
              "ABAP            5\n",
              "Name: count, dtype: int64"
            ]
          },
          "execution_count": 21,
          "metadata": {},
          "output_type": "execute_result"
        }
      ],
      "source": [
        "# Reemplazar valores repetidos\n",
        "encuesta.tecnologia = encuesta.tecnologia.replace('Javascript','JavaScript') \\\n",
        "                             .replace('javascript', 'JavaScript') \\\n",
        "                             .replace('Javascript / Typescript', 'JavaScript') \\\n",
        "                             .replace('JavaScript', 'JavaScript') \\\n",
        "                             .replace('JavaScript/Typescript', 'JavaScript') \\\n",
        "                             .replace('JavaScript / TypeScript', 'JavaScript') \\\n",
        "                             .replace('JavaScript ', 'JavaScript') \\\n",
        "                             .replace('JS', 'JavaScript') \\\n",
        "                             .replace('js', 'JavaScript') \\\n",
        "                             .replace('python', 'Python') \\\n",
        "                             .replace('Python ', 'Python') \\\n",
        "                             .replace('Python, SQL', 'Python') \\\n",
        "                             .replace('java', 'Java') \\\n",
        "                             .replace('Java/Kotlin', 'Java') \\\n",
        "                             .replace('php', 'PHP') \\\n",
        "                             .replace('Php', 'PHP') \\\n",
        "                             .replace('PHP ', 'PHP') \\\n",
        "                             .replace('C++/c ', 'C++') \\\n",
        "                             .replace('c++', 'C++') \\\n",
        "                             .replace('C++/c ', 'C++') \\\n",
        "                             .replace('C#, .net core', 'C#') \\\n",
        "                             .replace('Golang', 'Go') \\\n",
        "                             .replace('go', 'Go') \\\n",
        "                             .replace('kotlin', 'Kotlin') \\\n",
        "                             .replace('Kotlin/PHP', 'Kotlin') \\\n",
        "                             .replace('Typescript', 'TypeScript') \\\n",
        "                             .replace('TypeScript/Angular', 'TypeScript') \\\n",
        "                             .replace('Ruby on Rails', 'Ruby') \\\n",
        "                             .replace('iOS', 'Swift') \\\n",
        "                             .replace('.net', '.NET') \\\n",
        "                             .replace('.Net', '.NET') \\\n",
        "                             .replace('C, C++', 'C') \\\n",
        "                             .replace('C/C++', 'C') \\\n",
        "                             .replace('Sql ', 'SQL') \\\n",
        "                             .replace('Android', 'Kotlin') \\\n",
        "                             .replace('Node.js', 'NodeJS') \\\n",
        "                             .replace('React / JavaScript', 'React') \\\n",
        "                             .replace('React JS', 'React')\n",
        "# Reemplazar datos poco comunes\n",
        "otros_lenguajes = encuesta.tecnologia.value_counts()[(encuesta.tecnologia.value_counts() < 5).values].index\n",
        "encuesta.loc[encuesta.tecnologia.isin(otros_lenguajes),'tecnologia'] = 'Otro'\n",
        "encuesta = encuesta[encuesta['tecnologia'] != 'Otro']\n",
        "# Visualizar columna lenguaje programacion\n",
        "encuesta.tecnologia.value_counts()"
      ]
    },
    {
      "cell_type": "code",
      "execution_count": 22,
      "metadata": {
        "colab": {
          "base_uri": "https://localhost:8080/"
        },
        "id": "_hKa3VwUNOTg",
        "outputId": "99aa387a-507a-4ef4-f164-04d7e89e6153"
      },
      "outputs": [
        {
          "name": "stdout",
          "output_type": "stream",
          "text": [
            "count       816.000000\n",
            "mean      71631.573529\n",
            "std       35529.879588\n",
            "min       10001.000000\n",
            "25%       60000.000000\n",
            "50%       70000.000000\n",
            "75%       80000.000000\n",
            "max      850000.000000\n",
            "Name: salario, dtype: float64\n",
            "704     10001.0\n",
            "789     10001.0\n",
            "286     10164.0\n",
            "914     11500.0\n",
            "304     13000.0\n",
            "         ...   \n",
            "775    200000.0\n",
            "449    200000.0\n",
            "639    240000.0\n",
            "495    250000.0\n",
            "618    850000.0\n",
            "Name: salario, Length: 816, dtype: float64\n"
          ]
        }
      ],
      "source": [
        "# Visualizar salarios\n",
        "print(encuesta.salario.describe())\n",
        "print(encuesta['salario'].sort_values())"
      ]
    },
    {
      "cell_type": "code",
      "execution_count": 23,
      "metadata": {
        "colab": {
          "base_uri": "https://localhost:8080/"
        },
        "id": "8I_95FEzNwiR",
        "outputId": "719fee4b-be8b-4bf1-a657-75c7cd963067"
      },
      "outputs": [
        {
          "name": "stdout",
          "output_type": "stream",
          "text": [
            "count       766.000000\n",
            "mean      69578.451697\n",
            "std       14874.646988\n",
            "min       30000.000000\n",
            "25%       60000.000000\n",
            "50%       70000.000000\n",
            "75%       80000.000000\n",
            "max      110000.000000\n",
            "Name: salario, dtype: float64\n",
            "344      30000\n",
            "649      33000\n",
            "365      34000\n",
            "973      35000\n",
            "204      35000\n",
            "         ...  \n",
            "628     110000\n",
            "861     110000\n",
            "632     110000\n",
            "1011    110000\n",
            "957     110000\n",
            "Name: salario, Length: 766, dtype: int32\n"
          ]
        }
      ],
      "source": [
        "# Borrar datos atípicos columna salario\n",
        "encuesta = borrar_valores_atipicos(encuesta, 'salario')\n",
        "# Cambiar tipo de de dato\n",
        "encuesta.salario = encuesta.salario.astype('int')\n",
        "# Visualizar columna salarios\n",
        "print(encuesta.salario.describe())\n",
        "print(encuesta['salario'].sort_values())"
      ]
    },
    {
      "cell_type": "code",
      "execution_count": 24,
      "metadata": {
        "colab": {
          "base_uri": "https://localhost:8080/"
        },
        "id": "T9axtC5ImWwV",
        "outputId": "ed2676b8-4eb0-420e-8424-0af9d62ed2e7"
      },
      "outputs": [
        {
          "data": {
            "text/plain": [
              "estado\n",
              "Full-time employee            755\n",
              "Self-employed (freelancer)      7\n",
              "Founder                         2\n",
              "Part-time employee              2\n",
              "Name: count, dtype: int64"
            ]
          },
          "execution_count": 24,
          "metadata": {},
          "output_type": "execute_result"
        }
      ],
      "source": [
        "# Visualizar columna estado\n",
        "encuesta.estado.value_counts()"
      ]
    },
    {
      "cell_type": "code",
      "execution_count": 25,
      "metadata": {
        "colab": {
          "base_uri": "https://localhost:8080/"
        },
        "id": "vXln_v4lnuff",
        "outputId": "1c858ae5-8553-41b6-b4f8-edfaa9dd4321"
      },
      "outputs": [
        {
          "data": {
            "text/plain": [
              "estado\n",
              "Full-time employee            757\n",
              "Self-employed (freelancer)      7\n",
              "Part-time employee              2\n",
              "Name: count, dtype: int64"
            ]
          },
          "execution_count": 25,
          "metadata": {},
          "output_type": "execute_result"
        }
      ],
      "source": [
        "# Reemplazar valores atipicos\n",
        "encuesta.estado = encuesta.estado.replace('Founder','Full-time employee') \\\n",
        "                             .replace(\"full-time, but 32 hours per week (it was my request, I'm a student)\", \"Full-time employee\") \\\n",
        "                             .replace('Werkstudent','Part-time employee')\n",
        "# Visualizar columna estado\n",
        "encuesta.estado.value_counts()"
      ]
    },
    {
      "cell_type": "code",
      "execution_count": 26,
      "metadata": {
        "colab": {
          "base_uri": "https://localhost:8080/"
        },
        "id": "WUDXk9obrT7T",
        "outputId": "5ba15582-45fe-415e-a70a-8c4ebeb61915"
      },
      "outputs": [
        {
          "data": {
            "text/plain": [
              "contrato\n",
              "Unlimited contract    739\n",
              "Temporary contract     27\n",
              "Name: count, dtype: int64"
            ]
          },
          "execution_count": 26,
          "metadata": {},
          "output_type": "execute_result"
        }
      ],
      "source": [
        "# Visualizar columna contrato\n",
        "encuesta.contrato.value_counts()"
      ]
    },
    {
      "cell_type": "code",
      "execution_count": 27,
      "metadata": {
        "colab": {
          "base_uri": "https://localhost:8080/"
        },
        "id": "K41O1R5fsnB6",
        "outputId": "19361a08-10aa-4059-ec01-befcffbcd938"
      },
      "outputs": [
        {
          "data": {
            "text/plain": [
              "contrato\n",
              "Unlimited contract    739\n",
              "Temporary contract     27\n",
              "Name: count, dtype: int64"
            ]
          },
          "execution_count": 27,
          "metadata": {},
          "output_type": "execute_result"
        }
      ],
      "source": [
        "# Eliminar valor erroneo\n",
        "encuesta = encuesta[encuesta['contrato'] != '0']\n",
        "# Visualizar columna contrato\n",
        "encuesta.contrato.value_counts()"
      ]
    },
    {
      "cell_type": "code",
      "execution_count": 28,
      "metadata": {
        "colab": {
          "base_uri": "https://localhost:8080/"
        },
        "id": "pyKhSVTp-C3I",
        "outputId": "fce7ec64-c603-423c-aa81-565ed275b75c"
      },
      "outputs": [
        {
          "name": "stdout",
          "output_type": "stream",
          "text": [
            "Numero de idiomas unicos: 8\n"
          ]
        },
        {
          "data": {
            "text/plain": [
              "idioma\n",
              "English               657\n",
              "German                101\n",
              "Russian                 3\n",
              "English and German      1\n",
              "Czech                   1\n",
              "French                  1\n",
              "Spanish                 1\n",
              "Russian, English        1\n",
              "Name: count, dtype: int64"
            ]
          },
          "execution_count": 28,
          "metadata": {},
          "output_type": "execute_result"
        }
      ],
      "source": [
        "# Visualizar columna idiomas\n",
        "print(f'Numero de idiomas unicos: {len(encuesta.idioma.unique())}')\n",
        "encuesta.idioma.value_counts()"
      ]
    },
    {
      "cell_type": "code",
      "execution_count": 29,
      "metadata": {
        "colab": {
          "base_uri": "https://localhost:8080/"
        },
        "id": "6WagC5YF-h6f",
        "outputId": "c201d487-8665-4c58-a8a5-4ee0aeb5c15a"
      },
      "outputs": [
        {
          "name": "stdout",
          "output_type": "stream",
          "text": [
            "Numero de idiomas unicos: 3\n"
          ]
        },
        {
          "data": {
            "text/plain": [
              "idioma\n",
              "English    657\n",
              "German     101\n",
              "Otro         8\n",
              "Name: count, dtype: int64"
            ]
          },
          "execution_count": 29,
          "metadata": {},
          "output_type": "execute_result"
        }
      ],
      "source": [
        "# Reemplazar valores poco comunes\n",
        "otros_idioma = encuesta.idioma.value_counts()[(encuesta.idioma.value_counts() < 5).values].index\n",
        "encuesta.loc[encuesta.idioma.isin(otros_idioma),'idioma'] = 'Otro'\n",
        "# Visualizar columna idiomas\n",
        "print(f'Numero de idiomas unicos: {len(encuesta.idioma.unique())}')\n",
        "encuesta.idioma.value_counts()"
      ]
    },
    {
      "cell_type": "code",
      "execution_count": 30,
      "metadata": {
        "colab": {
          "base_uri": "https://localhost:8080/"
        },
        "id": "0wI9Cok0_FTi",
        "outputId": "9df9fac8-09a7-4af5-938d-4e439d092dc8"
      },
      "outputs": [
        {
          "data": {
            "text/plain": [
              "tamaño_empresa\n",
              "101-1000    281\n",
              "1000+       265\n",
              "11-50       103\n",
              "51-100       87\n",
              "up to 10     30\n",
              "Name: count, dtype: int64"
            ]
          },
          "execution_count": 30,
          "metadata": {},
          "output_type": "execute_result"
        }
      ],
      "source": [
        "# Visualizar columna tamaño empresa\n",
        "encuesta['tamaño_empresa'].value_counts()"
      ]
    },
    {
      "cell_type": "code",
      "execution_count": 31,
      "metadata": {
        "colab": {
          "base_uri": "https://localhost:8080/"
        },
        "id": "WJwRf6TgADUu",
        "outputId": "a331a732-14a0-4eb2-e8ee-895f76658cd2"
      },
      "outputs": [
        {
          "name": "stdout",
          "output_type": "stream",
          "text": [
            "<class 'pandas.core.frame.DataFrame'>\n",
            "Index: 766 entries, 0 to 1012\n",
            "Data columns (total 12 columns):\n",
            " #   Column          Non-Null Count  Dtype \n",
            "---  ------          --------------  ----- \n",
            " 0   edad            766 non-null    int32 \n",
            " 1   genero          766 non-null    object\n",
            " 2   ciudad          766 non-null    object\n",
            " 3   posicion        766 non-null    object\n",
            " 4   experiencia     766 non-null    int32 \n",
            " 5   nivel           766 non-null    object\n",
            " 6   tecnologia      766 non-null    object\n",
            " 7   salario         766 non-null    int32 \n",
            " 8   estado          766 non-null    object\n",
            " 9   contrato        766 non-null    object\n",
            " 10  idioma          766 non-null    object\n",
            " 11  tamaño_empresa  766 non-null    object\n",
            "dtypes: int32(3), object(9)\n",
            "memory usage: 68.8+ KB\n"
          ]
        }
      ],
      "source": [
        "# Información final\n",
        "encuesta.info()"
      ]
    },
    {
      "cell_type": "code",
      "execution_count": 32,
      "metadata": {
        "id": "kuXdDJBhAOrx"
      },
      "outputs": [],
      "source": [
        "# Exportar nueva base de datos\n",
        "encuesta.to_csv('../datos/procesados/encuesta_filtrada.csv', index=False)"
      ]
    }
  ],
  "metadata": {
    "colab": {
      "provenance": []
    },
    "kernelspec": {
      "display_name": "Python 3",
      "name": "python3"
    },
    "language_info": {
      "codemirror_mode": {
        "name": "ipython",
        "version": 3
      },
      "file_extension": ".py",
      "mimetype": "text/x-python",
      "name": "python",
      "nbconvert_exporter": "python",
      "pygments_lexer": "ipython3",
      "version": "3.11.1"
    }
  },
  "nbformat": 4,
  "nbformat_minor": 0
}
